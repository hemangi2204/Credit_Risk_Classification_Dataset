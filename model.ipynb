{
 "cells": [
  {
   "cell_type": "markdown",
   "id": "8e149cd6",
   "metadata": {},
   "source": [
    "### **Credit Risk Classification Dataset**\n"
   ]
  },
  {
   "cell_type": "markdown",
   "id": "ff667df3",
   "metadata": {},
   "source": [
    "#### Problem  Defintion\n"
   ]
  },
  {
   "cell_type": "code",
   "execution_count": null,
   "id": "6592c5d7",
   "metadata": {},
   "outputs": [],
   "source": [
    "# Importing Data Manipulation Library\n",
    "import pandas as pd\n",
    "import numpy as np\n",
    "# Importing Data Visualization Library\n",
    "import seaborn as sns\n",
    "import matplotlib.pyplot as plt\n",
    "# Import FilterWarnings Library\n",
    "import warnings\n",
    "warnings.filterwarnings('ignore')\n",
    "# Import logging\n",
    "import logging\n",
    "logging.basicConfig(level=logging.INFO,\n",
    "                    filename= 'model.log',\n",
    "                    format= '%(asctime)s %(levelname)s %(message)s',\n",
    "                    filemode= 'w')\n",
    "logging.info('Model Started')\n",
    "# Import Scikit-Learn Libraries\n",
    "from sklearn.preprocessing import MinMaxScaler,RobustScaler,StandardScaler\n",
    "from sklearn.model_selection import train_test_split\n",
    "from sklearn.metrics import accuracy_score,confusion_matrix,classification_report"
   ]
  }
 ],
 "metadata": {
  "kernelspec": {
   "display_name": "env (3.13.3)",
   "language": "python",
   "name": "python3"
  },
  "language_info": {
   "codemirror_mode": {
    "name": "ipython",
    "version": 3
   },
   "file_extension": ".py",
   "mimetype": "text/x-python",
   "name": "python",
   "nbconvert_exporter": "python",
   "pygments_lexer": "ipython3",
   "version": "3.13.3"
  }
 },
 "nbformat": 4,
 "nbformat_minor": 5
}
